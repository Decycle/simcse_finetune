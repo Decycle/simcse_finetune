{
 "cells": [
  {
   "cell_type": "code",
   "execution_count": 1,
   "metadata": {},
   "outputs": [
    {
     "data": {
      "application/vnd.jupyter.widget-view+json": {
       "model_id": "917d9b14b2cc481dbbae7e5c81a47feb",
       "version_major": 2,
       "version_minor": 0
      },
      "text/plain": [
       "model.safetensors:   0%|          | 0.00/499M [00:00<?, ?B/s]"
      ]
     },
     "metadata": {},
     "output_type": "display_data"
    },
    {
     "data": {
      "text/plain": [
       "CommitInfo(commit_url='https://huggingface.co/Decycle/simcse_longembed/commit/556d0ace0e951124252b968e6537e6c702a07005', commit_message='Upload model', commit_description='', oid='556d0ace0e951124252b968e6537e6c702a07005', pr_url=None, repo_url=RepoUrl('https://huggingface.co/Decycle/simcse_longembed', endpoint='https://huggingface.co', repo_type='model', repo_id='Decycle/simcse_longembed'), pr_revision=None, pr_num=None)"
      ]
     },
     "execution_count": 1,
     "metadata": {},
     "output_type": "execute_result"
    }
   ],
   "source": [
    "import torch\n",
    "import torch.nn.functional as F\n",
    "import numpy\n",
    "from transformers import AutoTokenizer, AutoModel\n",
    "import os\n",
    "\n",
    "\n",
    "tokenizer = AutoTokenizer.from_pretrained(\n",
    "    \"princeton-nlp/unsup-simcse-roberta-base\")\n",
    "model = AutoModel.from_pretrained(\"/home/decycle/ML/simcse_finetune/best_model\")\n",
    "\n",
    "\n",
    "# upload to hub\n",
    "# https://huggingface.co/princeton-nlp/unsup-simcse-roberta-base\n",
    "\n",
    "model.push_to_hub(\"Decycle/simcse_longembed\")"
   ]
  }
 ],
 "metadata": {
  "kernelspec": {
   "display_name": "env",
   "language": "python",
   "name": "python3"
  },
  "language_info": {
   "codemirror_mode": {
    "name": "ipython",
    "version": 3
   },
   "file_extension": ".py",
   "mimetype": "text/x-python",
   "name": "python",
   "nbconvert_exporter": "python",
   "pygments_lexer": "ipython3",
   "version": "3.10.10"
  }
 },
 "nbformat": 4,
 "nbformat_minor": 2
}
