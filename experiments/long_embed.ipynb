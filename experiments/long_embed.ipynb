{
 "cells": [
  {
   "cell_type": "code",
   "execution_count": null,
   "metadata": {},
   "outputs": [],
   "source": [
    "# import mteb\n",
    "\n",
    "# benchmarks = mteb.get_benchmarks()\n",
    "\n",
    "# benchmarks"
   ]
  },
  {
   "cell_type": "code",
   "execution_count": null,
   "metadata": {},
   "outputs": [],
   "source": [
    "import torch\n",
    "import torch.nn.functional as F\n",
    "import numpy\n",
    "from transformers import AutoTokenizer, AutoModel\n",
    "import os\n",
    "\n",
    "from scipy.stats import spearmanr\n",
    "from datasets import load_dataset\n",
    "\n",
    "base_tokenizer = AutoTokenizer.from_pretrained(\"princeton-nlp/unsup-simcse-roberta-base\")\n",
    "base_model = AutoModel.from_pretrained(\"princeton-nlp/unsup-simcse-roberta-base\").to(\n",
    "    \"cuda\"\n",
    ")\n",
    "base_model.eval()\n",
    "\n",
    "# our_model = AutoModel.from_pretrained(\n",
    "#     \"/home/decycle/ML/simcse_finetune/test_trainer/checkpoint-64800\"\n",
    "# ).to(\"cuda\")\n",
    "\n",
    "our_model = AutoModel.from_pretrained(\n",
    "    \"/home/decycle/ML/simcse_finetune/test_trainer_v4/checkpoint-50400\"\n",
    ").to(\"cuda\")\n",
    "\n",
    "our_model.eval()\n",
    "\n",
    "good_model = AutoModel.from_pretrained(\n",
    "    \"jinaai/jina-embeddings-v3\", trust_remote_code=True\n",
    ").to(\"cuda\")\n",
    "good_model.eval()\n",
    "\n",
    "good_tokenizer = AutoTokenizer.from_pretrained(\n",
    "    \"jinaai/jina-embeddings-v3\", trust_remote_code=True\n",
    ")"
   ]
  },
  {
   "cell_type": "code",
   "execution_count": null,
   "metadata": {},
   "outputs": [],
   "source": [
    "from tqdm import trange\n",
    "\n",
    "\n",
    "class SentenceEmbedder:\n",
    "    def __init__(self, model, tokenizer, dim=768, max_length=512):\n",
    "        self.model = model\n",
    "        self.tokenizer = tokenizer\n",
    "        self.dim = dim\n",
    "        self.max_length = max_length\n",
    "\n",
    "    def encode(\n",
    "        self, sentences, max_length=512, batch_size=4, convert_to_tensor=True, **kwargs\n",
    "    ):\n",
    "        self.model.eval()\n",
    "        with torch.no_grad():\n",
    "            inputs = self.tokenizer(\n",
    "                sentences,\n",
    "                return_tensors=\"pt\",\n",
    "                padding=True,\n",
    "                truncation=True,\n",
    "                max_length=self.max_length,\n",
    "            )\n",
    "            input_ids = inputs[\"input_ids\"].to(\"cuda\")\n",
    "            attention_mask = inputs[\"attention_mask\"].to(\"cuda\")\n",
    "\n",
    "            embeddings = torch.zeros(len(sentences), self.dim).to(\"cuda\")\n",
    "            for i in trange(0, len(sentences), batch_size):\n",
    "                batch_input_ids = input_ids[i : i + batch_size]\n",
    "                batch_attention_mask = attention_mask[i : i + batch_size]\n",
    "                outputs = self.model(\n",
    "                    input_ids=batch_input_ids,\n",
    "                    attention_mask=batch_attention_mask,\n",
    "                )\n",
    "                embeddings[i : i + batch_size] = outputs.pooler_output\n",
    "            if convert_to_tensor:\n",
    "                return embeddings\n",
    "            else:\n",
    "                return embeddings.cpu().numpy()"
   ]
  },
  {
   "cell_type": "code",
   "execution_count": null,
   "metadata": {},
   "outputs": [],
   "source": [
    "import mteb\n",
    "\n",
    "benchmark = mteb.get_benchmark(\"LongEmbed\")"
   ]
  },
  {
   "cell_type": "code",
   "execution_count": null,
   "metadata": {},
   "outputs": [],
   "source": [
    "def evaluate(model, output_dir, batch_size):\n",
    "    evaluation = mteb.MTEB(tasks=benchmark)\n",
    "    # TODO load the model before evaluation\n",
    "    results = evaluation.run(\n",
    "        model,\n",
    "        output_folder=output_dir,\n",
    "        overwrite_results=True,\n",
    "        batch_size=batch_size,\n",
    "        verbosity=0,\n",
    "    )\n",
    "    return results\n",
    "\n",
    "our_embedder = SentenceEmbedder(our_model, base_tokenizer, dim=768, max_length=512)\n",
    "base_embedder = SentenceEmbedder(base_model, base_tokenizer, dim=768, max_length=512)\n",
    "good_embedder = SentenceEmbedder(good_model, good_tokenizer, dim=1024, max_length=8194)\n",
    "our_results = evaluate(our_embedder, \"output_dir_our\", 32)\n",
    "base_results = evaluate(base_embedder, \"output_dir_base\", 32)\n",
    "good_results = evaluate(good_embedder, \"output_dir_good\", 32)"
   ]
  },
  {
   "cell_type": "code",
   "execution_count": null,
   "metadata": {},
   "outputs": [],
   "source": [
    "def get_scores(results):\n",
    "    scores = {}\n",
    "    for result in results:\n",
    "        name = result.task_name\n",
    "        score = list(result.scores.values())[0]\n",
    "        if name in ['LEMBPasskeyRetrieval', 'LEMBNeedleRetrieval']:\n",
    "            score = score[0][\"main_score\"]\n",
    "        else:\n",
    "            score = score[0][\"main_score\"]\n",
    "        scores[name] = score\n",
    "    return scores\n",
    "\n",
    "our_scores = get_scores(our_results)\n",
    "base_scores = get_scores(base_results)\n",
    "good_scores = get_scores(good_results)"
   ]
  },
  {
   "cell_type": "code",
   "execution_count": null,
   "metadata": {},
   "outputs": [],
   "source": [
    "our_scores, base_scores, good_scores"
   ]
  },
  {
   "cell_type": "code",
   "execution_count": null,
   "metadata": {},
   "outputs": [],
   "source": [
    "# our_scores, base_scores, good_scores = (\n",
    "#     {\n",
    "#         \"LEMBNarrativeQARetrieval\": 0.13626,\n",
    "#         \"LEMBNeedleRetrieval\": 0.64,\n",
    "#         \"LEMBPasskeyRetrieval\": 0.6,\n",
    "#         \"LEMBQMSumRetrieval\": 0.1492,\n",
    "#         \"LEMBSummScreenFDRetrieval\": 0.52895,\n",
    "#         \"LEMBWikimQARetrieval\": 0.3503,\n",
    "#     },\n",
    "#     {\n",
    "#         \"LEMBNarrativeQARetrieval\": 0.08723,\n",
    "#         \"LEMBNeedleRetrieval\": 0.26,\n",
    "#         \"LEMBPasskeyRetrieval\": 0.48,\n",
    "#         \"LEMBQMSumRetrieval\": 0.14554,\n",
    "#         \"LEMBSummScreenFDRetrieval\": 0.47519,\n",
    "#         \"LEMBWikimQARetrieval\": 0.33434,\n",
    "#     },\n",
    "#     {\n",
    "#         \"LEMBNarrativeQARetrieval\": 0.30743,\n",
    "#         \"LEMBNeedleRetrieval\": 0.66,\n",
    "#         \"LEMBPasskeyRetrieval\": 1.0,\n",
    "#         \"LEMBQMSumRetrieval\": 0.33367,\n",
    "#         \"LEMBSummScreenFDRetrieval\": 0.91128,\n",
    "#         \"LEMBWikimQARetrieval\": 0.68078,\n",
    "#     },\n",
    "# )"
   ]
  },
  {
   "cell_type": "code",
   "execution_count": null,
   "metadata": {},
   "outputs": [
    {
     "data": {
      "text/plain": [
       "(np.float64(0.29705000000000004),\n",
       " np.float64(0.40078499999999995),\n",
       " np.float64(0.64886))"
      ]
     },
     "execution_count": 5,
     "metadata": {},
     "output_type": "execute_result"
    }
   ],
   "source": [
    "# import numpy as np\n",
    "\n",
    "# base_avg = np.mean(list(base_scores.values()))\n",
    "# our_avg = np.mean(list(our_scores.values()))\n",
    "# good_avg = np.mean(list(good_scores.values()))\n",
    "\n",
    "# base_avg, our_avg, good_avg"
   ]
  },
  {
   "cell_type": "code",
   "execution_count": null,
   "metadata": {},
   "outputs": [
    {
     "data": {
      "image/png": "[encoded data removed]",
      "text/plain": [
       "<Figure size 640x480 with 1 Axes>"
      ]
     },
     "metadata": {},
     "output_type": "display_data"
    }
   ],
   "source": [
    "# three bar graph\n",
    "import matplotlib.pyplot as plt\n",
    "width = 0.3\n",
    "\n",
    "fig, ax = plt.subplots()\n",
    "\n",
    "x = np.arange(len(our_scores))\n",
    "ax.bar(x - width, base_scores.values(), width, label=\"Base Model\")\n",
    "ax.bar(x, our_scores.values(), width, label='Our Model')\n",
    "ax.bar(x + width, good_scores.values(), width, label='Jina-embed v3')\n",
    "\n",
    "ax.set_xticks(x)\n",
    "ax.set_xticklabels(our_scores.keys(), rotation=45)\n",
    "ax.legend()\n",
    "plt.show()"
   ]
  },
  {
   "cell_type": "code",
   "execution_count": null,
   "metadata": {},
   "outputs": [],
   "source": [
    "good_results"
   ]
  },
  {
   "cell_type": "code",
   "execution_count": null,
   "metadata": {},
   "outputs": [],
   "source": [
    "our_result = our_results[0].scores[\"test\"][0]\n",
    "base_result = base_results[0].scores[\"test\"][0]\n",
    "good_result = good_results[0].scores[\"test\"][0]"
   ]
  },
  {
   "cell_type": "code",
   "execution_count": null,
   "metadata": {},
   "outputs": [],
   "source": [
    "# compare every key in the result dict\n",
    "from matplotlib import pyplot as plt\n",
    "\n",
    "labels = []\n",
    "our_scores = []\n",
    "base_scores = []\n",
    "good_scores = []\n",
    "\n",
    "for key in our_result.keys():\n",
    "    our_score = our_result[key]\n",
    "    base_score = base_result[key]\n",
    "    good_score = good_result[key]\n",
    "\n",
    "    if type(our_score) in [str, list, dict]:\n",
    "        continue\n",
    "\n",
    "    our_score = float(our_score)\n",
    "    base_score = float(base_score)\n",
    "    good_score = float(good_score)\n",
    "\n",
    "    labels.append(key)\n",
    "    our_scores.append(our_score)\n",
    "    base_scores.append(base_score)\n",
    "    good_scores.append(good_score)\n",
    "\n",
    "\n",
    "# print(our_scores)\n",
    "# bar graph\n",
    "x = numpy.arange(len(labels))\n",
    "\n",
    "# 10 per graph\n",
    "for i in range(0, len(labels), 10):\n",
    "    plt.figure(figsize=(20, 10))\n",
    "    # bar graph with bottom highest score last\n",
    "    plt.bar(x[i:i+10], good_scores[i:i+10], label=\"Good Model\")\n",
    "    plt.bar(x[i:i+10], our_scores[i:i+10], label=\"Our Model\")\n",
    "    plt.bar(x[i:i+10], base_scores[i:i+10], label=\"Base Model\")\n",
    "\n",
    "    plt.ylabel(\"Scores\")\n",
    "    plt.title(\"Scores by task\")\n",
    "    plt.xticks(x[i:i+10], labels[i:i+10])\n",
    "    plt.legend()\n",
    "    plt.show()\n",
    "\n",
    "# fig, ax = plt.subplots()\n",
    "# rects1 = ax.bar(x - width / 2, our_scores, width, label=\"Our Model\")\n",
    "# rects2 = ax.bar(x + width/2, base_scores, width, label=\"Base Model\")\n",
    "\n",
    "# ax.set_ylabel(\"Scores\")\n",
    "# ax.set_title(\"Scores by task\")\n",
    "# ax.set_xticks(x)\n",
    "# ax.set_xticklabels(labels)\n",
    "# ax.legend()\n",
    "\n",
    "# plt.show()"
   ]
  },
  {
   "cell_type": "code",
   "execution_count": null,
   "metadata": {},
   "outputs": [],
   "source": [
    "dataset = load_dataset(\n",
    "    \"abokbot/wikipedia-first-paragraph\",\n",
    "    split=\"train\",\n",
    "    trust_remote_code=True,\n",
    ")[:100000]['text']"
   ]
  },
  {
   "cell_type": "code",
   "execution_count": null,
   "metadata": {},
   "outputs": [],
   "source": [
    "from tqdm import tqdm, trange\n",
    "\n",
    "def tokenize_function(examples):\n",
    "    sizes = []\n",
    "    for example in examples['text']:\n",
    "        sizes.append(len(base_tokenizer(example)[\"input_ids\"]))\n",
    "    return sizes\n",
    "\n",
    "sizes = []\n",
    "batch_size = 1024\n",
    "for i in trange(0, len(dataset), batch_size):\n",
    "    sizes.extend(tokenize_function({\"text\": dataset[i : i + batch_size]}))"
   ]
  },
  {
   "cell_type": "code",
   "execution_count": null,
   "metadata": {},
   "outputs": [],
   "source": [
    "# histogram\n",
    "plt.hist(sizes, bins=100)\n",
    "plt.show()"
   ]
  },
  {
   "cell_type": "code",
   "execution_count": null,
   "metadata": {},
   "outputs": [],
   "source": [
    "# top 95% of the data\n",
    "sizes = numpy.array(sizes)\n",
    "top_95 = numpy.percentile(sizes, 85)\n",
    "print(top_95)"
   ]
  },
  {
   "cell_type": "code",
   "execution_count": null,
   "metadata": {},
   "outputs": [],
   "source": [
    "import numpy as np\n",
    "\n",
    "a = np.array([3])\n",
    "\n",
    "a[0]\n",
    "\n",
    "isinstance(a[0], np.int64)"
   ]
  }
 ],
 "metadata": {
  "kernelspec": {
   "display_name": "env",
   "language": "python",
   "name": "python3"
  },
  "language_info": {
   "codemirror_mode": {
    "name": "ipython",
    "version": 3
   },
   "file_extension": ".py",
   "mimetype": "text/x-python",
   "name": "python",
   "nbconvert_exporter": "python",
   "pygments_lexer": "ipython3",
   "version": "3.10.10"
  }
 },
 "nbformat": 4,
 "nbformat_minor": 2
}
